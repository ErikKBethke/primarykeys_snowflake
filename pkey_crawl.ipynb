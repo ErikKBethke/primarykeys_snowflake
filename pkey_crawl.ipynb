{
 "cells": [
  {
   "cell_type": "code",
   "execution_count": 1,
   "metadata": {},
   "outputs": [],
   "source": [
    "#!/usr/bin/env python\n",
    "import snowflake.connector\n",
    "import pandas as pd\n",
    "import numpy as np\n",
    "\n",
    "from snowflake.sqlalchemy import URL\n",
    "from sqlalchemy import create_engine\n",
    "from snowflaked import query_snowflake\n",
    "from snowflaked import initialize_conn\n",
    "from snowflaked import dict_conn_build\n",
    "from snowflaked import unique_counts\n",
    "from snowflaked import find_primary\n",
    "\n",
    "from queries import *"
   ]
  },
  {
   "cell_type": "code",
   "execution_count": 2,
   "metadata": {},
   "outputs": [],
   "source": [
    "#dict_conn = dict_conn_build()"
   ]
  },
  {
   "cell_type": "code",
   "execution_count": null,
   "metadata": {},
   "outputs": [],
   "source": [
    "# return keys of queries\n",
    "return_vars().keys()"
   ]
  },
  {
   "cell_type": "code",
   "execution_count": 3,
   "metadata": {},
   "outputs": [
    {
     "name": "stdout",
     "output_type": "stream",
     "text": [
      "Username:erik.bethke@braze.com\n",
      "Password:········\n"
     ]
    }
   ],
   "source": [
    "cs = initialize_conn()"
   ]
  },
  {
   "cell_type": "markdown",
   "metadata": {},
   "source": [
    "#### highspot"
   ]
  },
  {
   "cell_type": "code",
   "execution_count": null,
   "metadata": {},
   "outputs": [],
   "source": [
    "df = query_snowflake(str_highspot_5k, cs=cs)"
   ]
  },
  {
   "cell_type": "code",
   "execution_count": null,
   "metadata": {},
   "outputs": [],
   "source": [
    "str_highspot_5k"
   ]
  },
  {
   "cell_type": "code",
   "execution_count": null,
   "metadata": {},
   "outputs": [],
   "source": [
    "### finding columns of interest\n",
    "unique_counts(df)"
   ]
  },
  {
   "cell_type": "code",
   "execution_count": null,
   "metadata": {
    "scrolled": true
   },
   "outputs": [],
   "source": [
    "required_cols_in = ['user_id']#['user_id', 'content_id']\n",
    "exclude_cols_in = ['number_of_interactions', 'downloads']\n",
    "df_out =find_primary(df,\n",
    "             required_cols=required_cols_in,\n",
    "             exclude_cols=exclude_cols_in,\n",
    "             threshold=10,\n",
    "             improve=.9)"
   ]
  },
  {
   "cell_type": "code",
   "execution_count": null,
   "metadata": {},
   "outputs": [],
   "source": [
    "#df_out[df_out.index.duplicated()]"
   ]
  },
  {
   "cell_type": "markdown",
   "metadata": {},
   "source": [
    "### success"
   ]
  },
  {
   "cell_type": "code",
   "execution_count": null,
   "metadata": {},
   "outputs": [],
   "source": [
    "df_succ = pd.read_csv('/Users/erik.bethke1/Documents/Projects/primarykeys/sql_runner_bqscq7fp8cjdjd_2020-05-27_21-12-03.csv')"
   ]
  },
  {
   "cell_type": "code",
   "execution_count": null,
   "metadata": {},
   "outputs": [],
   "source": [
    "unique_counts(df_succ)"
   ]
  },
  {
   "cell_type": "code",
   "execution_count": null,
   "metadata": {},
   "outputs": [],
   "source": [
    "succ_out = find_primary(df_succ, required_cols=['COMPANY_NAME', 'CAPABILITY_KEY'], improve=.1)\n",
    "succ_out[succ_out.index.duplicated()]"
   ]
  },
  {
   "cell_type": "code",
   "execution_count": null,
   "metadata": {},
   "outputs": [],
   "source": [
    "succ_out.columns"
   ]
  },
  {
   "cell_type": "code",
   "execution_count": null,
   "metadata": {},
   "outputs": [],
   "source": [
    "succ_out[(succ_out['SALESFORCE_ID'] == '001d000001tob0LAAQ')]"
   ]
  },
  {
   "cell_type": "code",
   "execution_count": null,
   "metadata": {},
   "outputs": [],
   "source": [
    "succ_out[(succ_out['SALESFORCE_ID'] == '001d000001tob0LAAQ') & (succ_out['SOURCE'] == 'csm')][['SUBCATEGORY_ORDER', 'ROW_ORDER', 'LEVEL_ORDER',\n",
    "       'LABEL', 'INPUT_TYPE', 'SCORECARD_TYPE']]"
   ]
  },
  {
   "cell_type": "markdown",
   "metadata": {},
   "source": [
    "#### covid_19"
   ]
  },
  {
   "cell_type": "code",
   "execution_count": 4,
   "metadata": {},
   "outputs": [],
   "source": [
    "df = query_snowflake(str_pk_jhucovid, cs=cs)"
   ]
  },
  {
   "cell_type": "code",
   "execution_count": 5,
   "metadata": {},
   "outputs": [
    {
     "data": {
      "text/plain": [
       "{'country_region': 14848,\n",
       " 'province_state': 512,\n",
       " 'county': nan,\n",
       " 'fips': nan,\n",
       " 'date': 948,\n",
       " 'case_type': 30336,\n",
       " 'cases': 48540,\n",
       " 'long': 1024,\n",
       " 'lat': 1024,\n",
       " 'iso3166_1': 14848,\n",
       " 'iso3166_2': 512,\n",
       " 'difference': 79094,\n",
       " 'last_updated_date': 121344,\n",
       " 'last_reported_flag': 120396}"
      ]
     },
     "execution_count": 5,
     "metadata": {},
     "output_type": "execute_result"
    }
   ],
   "source": [
    "unique_counts(df)"
   ]
  },
  {
   "cell_type": "code",
   "execution_count": 7,
   "metadata": {},
   "outputs": [
    {
     "name": "stdout",
     "output_type": "stream",
     "text": [
      "excluding col from search params cases\n",
      "{'county': nan, 'fips': nan, 'case_type': 30336, 'long': 1024, 'lat': 1024, 'iso3166_1': 14848, 'iso3166_2': 512, 'difference': 79094, 'last_updated_date': 121344, 'last_reported_flag': 120396}\n",
      "excluding col from search params case_type\n",
      "{'county': nan, 'fips': nan, 'long': 1024, 'lat': 1024, 'iso3166_1': 14848, 'iso3166_2': 512, 'difference': 79094, 'last_updated_date': 121344, 'last_reported_flag': 120396}\n"
     ]
    }
   ],
   "source": [
    "df_covid = find_primary(df,\n",
    "                        required_cols=['date', 'country_region', 'province_state'],\n",
    "                        exclude_cols= ['cases', 'case_type'],\n",
    "                        improve=.9)"
   ]
  },
  {
   "cell_type": "code",
   "execution_count": 8,
   "metadata": {},
   "outputs": [
    {
     "data": {
      "text/html": [
       "<div>\n",
       "<style scoped>\n",
       "    .dataframe tbody tr th:only-of-type {\n",
       "        vertical-align: middle;\n",
       "    }\n",
       "\n",
       "    .dataframe tbody tr th {\n",
       "        vertical-align: top;\n",
       "    }\n",
       "\n",
       "    .dataframe thead th {\n",
       "        text-align: right;\n",
       "    }\n",
       "</style>\n",
       "<table border=\"1\" class=\"dataframe\">\n",
       "  <thead>\n",
       "    <tr style=\"text-align: right;\">\n",
       "      <th></th>\n",
       "      <th></th>\n",
       "      <th></th>\n",
       "      <th>county</th>\n",
       "      <th>fips</th>\n",
       "      <th>case_type</th>\n",
       "      <th>cases</th>\n",
       "      <th>long</th>\n",
       "      <th>lat</th>\n",
       "      <th>iso3166_1</th>\n",
       "      <th>iso3166_2</th>\n",
       "      <th>difference</th>\n",
       "      <th>last_updated_date</th>\n",
       "      <th>last_reported_flag</th>\n",
       "    </tr>\n",
       "    <tr>\n",
       "      <th>date</th>\n",
       "      <th>country_region</th>\n",
       "      <th>province_state</th>\n",
       "      <th></th>\n",
       "      <th></th>\n",
       "      <th></th>\n",
       "      <th></th>\n",
       "      <th></th>\n",
       "      <th></th>\n",
       "      <th></th>\n",
       "      <th></th>\n",
       "      <th></th>\n",
       "      <th></th>\n",
       "      <th></th>\n",
       "    </tr>\n",
       "  </thead>\n",
       "  <tbody>\n",
       "    <tr>\n",
       "      <th>2020-01-22</th>\n",
       "      <th>Afghanistan</th>\n",
       "      <th>NaN</th>\n",
       "      <td>None</td>\n",
       "      <td>None</td>\n",
       "      <td>Active</td>\n",
       "      <td>0</td>\n",
       "      <td>65.0</td>\n",
       "      <td>33.0</td>\n",
       "      <td>AF</td>\n",
       "      <td>None</td>\n",
       "      <td>0</td>\n",
       "      <td>2020-05-29 11:13:08.641455</td>\n",
       "      <td>False</td>\n",
       "    </tr>\n",
       "    <tr>\n",
       "      <th>2020-01-23</th>\n",
       "      <th>Afghanistan</th>\n",
       "      <th>NaN</th>\n",
       "      <td>None</td>\n",
       "      <td>None</td>\n",
       "      <td>Active</td>\n",
       "      <td>0</td>\n",
       "      <td>65.0</td>\n",
       "      <td>33.0</td>\n",
       "      <td>AF</td>\n",
       "      <td>None</td>\n",
       "      <td>0</td>\n",
       "      <td>2020-05-29 11:13:08.641455</td>\n",
       "      <td>False</td>\n",
       "    </tr>\n",
       "    <tr>\n",
       "      <th>2020-01-24</th>\n",
       "      <th>Afghanistan</th>\n",
       "      <th>NaN</th>\n",
       "      <td>None</td>\n",
       "      <td>None</td>\n",
       "      <td>Active</td>\n",
       "      <td>0</td>\n",
       "      <td>65.0</td>\n",
       "      <td>33.0</td>\n",
       "      <td>AF</td>\n",
       "      <td>None</td>\n",
       "      <td>0</td>\n",
       "      <td>2020-05-29 11:13:08.641455</td>\n",
       "      <td>False</td>\n",
       "    </tr>\n",
       "    <tr>\n",
       "      <th>2020-01-25</th>\n",
       "      <th>Afghanistan</th>\n",
       "      <th>NaN</th>\n",
       "      <td>None</td>\n",
       "      <td>None</td>\n",
       "      <td>Active</td>\n",
       "      <td>0</td>\n",
       "      <td>65.0</td>\n",
       "      <td>33.0</td>\n",
       "      <td>AF</td>\n",
       "      <td>None</td>\n",
       "      <td>0</td>\n",
       "      <td>2020-05-29 11:13:08.641455</td>\n",
       "      <td>False</td>\n",
       "    </tr>\n",
       "    <tr>\n",
       "      <th>2020-01-26</th>\n",
       "      <th>Afghanistan</th>\n",
       "      <th>NaN</th>\n",
       "      <td>None</td>\n",
       "      <td>None</td>\n",
       "      <td>Active</td>\n",
       "      <td>0</td>\n",
       "      <td>65.0</td>\n",
       "      <td>33.0</td>\n",
       "      <td>AF</td>\n",
       "      <td>None</td>\n",
       "      <td>0</td>\n",
       "      <td>2020-05-29 11:13:08.641455</td>\n",
       "      <td>False</td>\n",
       "    </tr>\n",
       "    <tr>\n",
       "      <th>...</th>\n",
       "      <th>...</th>\n",
       "      <th>...</th>\n",
       "      <td>...</td>\n",
       "      <td>...</td>\n",
       "      <td>...</td>\n",
       "      <td>...</td>\n",
       "      <td>...</td>\n",
       "      <td>...</td>\n",
       "      <td>...</td>\n",
       "      <td>...</td>\n",
       "      <td>...</td>\n",
       "      <td>...</td>\n",
       "      <td>...</td>\n",
       "    </tr>\n",
       "    <tr>\n",
       "      <th>2020-05-24</th>\n",
       "      <th>Zimbabwe</th>\n",
       "      <th>NaN</th>\n",
       "      <td>None</td>\n",
       "      <td>None</td>\n",
       "      <td>Recovered</td>\n",
       "      <td>25</td>\n",
       "      <td>30.0</td>\n",
       "      <td>-20.0</td>\n",
       "      <td>ZW</td>\n",
       "      <td>None</td>\n",
       "      <td>7</td>\n",
       "      <td>2020-05-29 11:13:08.641455</td>\n",
       "      <td>False</td>\n",
       "    </tr>\n",
       "    <tr>\n",
       "      <th>2020-05-25</th>\n",
       "      <th>Zimbabwe</th>\n",
       "      <th>NaN</th>\n",
       "      <td>None</td>\n",
       "      <td>None</td>\n",
       "      <td>Recovered</td>\n",
       "      <td>25</td>\n",
       "      <td>30.0</td>\n",
       "      <td>-20.0</td>\n",
       "      <td>ZW</td>\n",
       "      <td>None</td>\n",
       "      <td>0</td>\n",
       "      <td>2020-05-29 11:13:08.641455</td>\n",
       "      <td>False</td>\n",
       "    </tr>\n",
       "    <tr>\n",
       "      <th>2020-05-26</th>\n",
       "      <th>Zimbabwe</th>\n",
       "      <th>NaN</th>\n",
       "      <td>None</td>\n",
       "      <td>None</td>\n",
       "      <td>Recovered</td>\n",
       "      <td>25</td>\n",
       "      <td>30.0</td>\n",
       "      <td>-20.0</td>\n",
       "      <td>ZW</td>\n",
       "      <td>None</td>\n",
       "      <td>0</td>\n",
       "      <td>2020-05-29 11:13:08.641455</td>\n",
       "      <td>False</td>\n",
       "    </tr>\n",
       "    <tr>\n",
       "      <th>2020-05-27</th>\n",
       "      <th>Zimbabwe</th>\n",
       "      <th>NaN</th>\n",
       "      <td>None</td>\n",
       "      <td>None</td>\n",
       "      <td>Recovered</td>\n",
       "      <td>25</td>\n",
       "      <td>30.0</td>\n",
       "      <td>-20.0</td>\n",
       "      <td>ZW</td>\n",
       "      <td>None</td>\n",
       "      <td>0</td>\n",
       "      <td>2020-05-29 11:13:08.641455</td>\n",
       "      <td>False</td>\n",
       "    </tr>\n",
       "    <tr>\n",
       "      <th>2020-05-28</th>\n",
       "      <th>Zimbabwe</th>\n",
       "      <th>NaN</th>\n",
       "      <td>None</td>\n",
       "      <td>None</td>\n",
       "      <td>Recovered</td>\n",
       "      <td>28</td>\n",
       "      <td>30.0</td>\n",
       "      <td>-20.0</td>\n",
       "      <td>ZW</td>\n",
       "      <td>None</td>\n",
       "      <td>3</td>\n",
       "      <td>2020-05-29 11:13:08.641455</td>\n",
       "      <td>True</td>\n",
       "    </tr>\n",
       "  </tbody>\n",
       "</table>\n",
       "<p>121344 rows × 11 columns</p>\n",
       "</div>"
      ],
      "text/plain": [
       "                                         county  fips  case_type  cases  long  \\\n",
       "date       country_region province_state                                        \n",
       "2020-01-22 Afghanistan    NaN              None  None     Active      0  65.0   \n",
       "2020-01-23 Afghanistan    NaN              None  None     Active      0  65.0   \n",
       "2020-01-24 Afghanistan    NaN              None  None     Active      0  65.0   \n",
       "2020-01-25 Afghanistan    NaN              None  None     Active      0  65.0   \n",
       "2020-01-26 Afghanistan    NaN              None  None     Active      0  65.0   \n",
       "...                                         ...   ...        ...    ...   ...   \n",
       "2020-05-24 Zimbabwe       NaN              None  None  Recovered     25  30.0   \n",
       "2020-05-25 Zimbabwe       NaN              None  None  Recovered     25  30.0   \n",
       "2020-05-26 Zimbabwe       NaN              None  None  Recovered     25  30.0   \n",
       "2020-05-27 Zimbabwe       NaN              None  None  Recovered     25  30.0   \n",
       "2020-05-28 Zimbabwe       NaN              None  None  Recovered     28  30.0   \n",
       "\n",
       "                                           lat iso3166_1 iso3166_2  \\\n",
       "date       country_region province_state                             \n",
       "2020-01-22 Afghanistan    NaN             33.0        AF      None   \n",
       "2020-01-23 Afghanistan    NaN             33.0        AF      None   \n",
       "2020-01-24 Afghanistan    NaN             33.0        AF      None   \n",
       "2020-01-25 Afghanistan    NaN             33.0        AF      None   \n",
       "2020-01-26 Afghanistan    NaN             33.0        AF      None   \n",
       "...                                        ...       ...       ...   \n",
       "2020-05-24 Zimbabwe       NaN            -20.0        ZW      None   \n",
       "2020-05-25 Zimbabwe       NaN            -20.0        ZW      None   \n",
       "2020-05-26 Zimbabwe       NaN            -20.0        ZW      None   \n",
       "2020-05-27 Zimbabwe       NaN            -20.0        ZW      None   \n",
       "2020-05-28 Zimbabwe       NaN            -20.0        ZW      None   \n",
       "\n",
       "                                          difference  \\\n",
       "date       country_region province_state               \n",
       "2020-01-22 Afghanistan    NaN                      0   \n",
       "2020-01-23 Afghanistan    NaN                      0   \n",
       "2020-01-24 Afghanistan    NaN                      0   \n",
       "2020-01-25 Afghanistan    NaN                      0   \n",
       "2020-01-26 Afghanistan    NaN                      0   \n",
       "...                                              ...   \n",
       "2020-05-24 Zimbabwe       NaN                      7   \n",
       "2020-05-25 Zimbabwe       NaN                      0   \n",
       "2020-05-26 Zimbabwe       NaN                      0   \n",
       "2020-05-27 Zimbabwe       NaN                      0   \n",
       "2020-05-28 Zimbabwe       NaN                      3   \n",
       "\n",
       "                                                  last_updated_date  \\\n",
       "date       country_region province_state                              \n",
       "2020-01-22 Afghanistan    NaN            2020-05-29 11:13:08.641455   \n",
       "2020-01-23 Afghanistan    NaN            2020-05-29 11:13:08.641455   \n",
       "2020-01-24 Afghanistan    NaN            2020-05-29 11:13:08.641455   \n",
       "2020-01-25 Afghanistan    NaN            2020-05-29 11:13:08.641455   \n",
       "2020-01-26 Afghanistan    NaN            2020-05-29 11:13:08.641455   \n",
       "...                                                             ...   \n",
       "2020-05-24 Zimbabwe       NaN            2020-05-29 11:13:08.641455   \n",
       "2020-05-25 Zimbabwe       NaN            2020-05-29 11:13:08.641455   \n",
       "2020-05-26 Zimbabwe       NaN            2020-05-29 11:13:08.641455   \n",
       "2020-05-27 Zimbabwe       NaN            2020-05-29 11:13:08.641455   \n",
       "2020-05-28 Zimbabwe       NaN            2020-05-29 11:13:08.641455   \n",
       "\n",
       "                                          last_reported_flag  \n",
       "date       country_region province_state                      \n",
       "2020-01-22 Afghanistan    NaN                          False  \n",
       "2020-01-23 Afghanistan    NaN                          False  \n",
       "2020-01-24 Afghanistan    NaN                          False  \n",
       "2020-01-25 Afghanistan    NaN                          False  \n",
       "2020-01-26 Afghanistan    NaN                          False  \n",
       "...                                                      ...  \n",
       "2020-05-24 Zimbabwe       NaN                          False  \n",
       "2020-05-25 Zimbabwe       NaN                          False  \n",
       "2020-05-26 Zimbabwe       NaN                          False  \n",
       "2020-05-27 Zimbabwe       NaN                          False  \n",
       "2020-05-28 Zimbabwe       NaN                           True  \n",
       "\n",
       "[121344 rows x 11 columns]"
      ]
     },
     "execution_count": 8,
     "metadata": {},
     "output_type": "execute_result"
    }
   ],
   "source": [
    "df_covid"
   ]
  },
  {
   "cell_type": "code",
   "execution_count": null,
   "metadata": {},
   "outputs": [],
   "source": [
    "df_covid[df_covid.index.duplicated()]"
   ]
  }
 ],
 "metadata": {
  "kernelspec": {
   "display_name": "snowflake",
   "language": "python",
   "name": "snowflake"
  },
  "language_info": {
   "codemirror_mode": {
    "name": "ipython",
    "version": 3
   },
   "file_extension": ".py",
   "mimetype": "text/x-python",
   "name": "python",
   "nbconvert_exporter": "python",
   "pygments_lexer": "ipython3",
   "version": "3.7.6"
  }
 },
 "nbformat": 4,
 "nbformat_minor": 4
}
