{
 "cells": [
  {
   "cell_type": "code",
   "execution_count": 1,
   "metadata": {},
   "outputs": [],
   "source": [
    "import pandas as pd\n",
    "import numpy as np\n",
    "import getpass\n",
    "\n",
    "import snowflake.connector\n",
    "from snowflake.sqlalchemy import URL\n",
    "from sqlalchemy import create_engine"
   ]
  },
  {
   "cell_type": "code",
   "execution_count": 2,
   "metadata": {},
   "outputs": [],
   "source": [
    "def initialize_conn(dict_conn=None):\n",
    "    \"\"\"\n",
    "    Initializes connection to Snowflake\n",
    "\n",
    "    Parameters\n",
    "    ----------\n",
    "    str_query : str\n",
    "        String query to run via Snowflake connector\n",
    "\n",
    "    dict_conn : dict\n",
    "        Dictionary of Snowflake connection parameters.\n",
    "        Default values are:\n",
    "            account: xj24206.us-east-1\n",
    "            warehouse: BI_XSMALL\n",
    "            database: LOAD_PROD\n",
    "            schema: PUBLIC\n",
    "\n",
    "    Returns\n",
    "    -------\n",
    "    DataFrame\n",
    "        Pandas dataframe with the results of the query\n",
    "    \"\"\"\n",
    "    ### Get username and password via inputs\n",
    "    sf_username = input(\"Username:\")\n",
    "    sf_password = getpass.getpass(prompt=\"Password:\")\n",
    "\n",
    "    ### Set the connection parameters\n",
    "    if dict_conn:\n",
    "        ctx = snowflake.connector.connect(\n",
    "            user=sf_username,\n",
    "            account=dict_conn[\"account\"],\n",
    "            warehouse=dict_conn[\"warehouse\"],\n",
    "            password=sf_password,\n",
    "            database=dict_conn[\"database\"],\n",
    "            schema=dict_conn[\"schema\"],\n",
    "            )\n",
    "    else:\n",
    "        ctx = snowflake.connector.connect(\n",
    "            user=sf_username,\n",
    "            account='xj24206.us-east-1',\n",
    "            warehouse=\"BI_XSMALL\",\n",
    "            password=sf_password,\n",
    "            database=\"LOAD_PROD\",\n",
    "            schema=\"PUBLIC\",\n",
    "            )\n",
    "\n",
    "    cs = ctx.cursor()\n",
    "    del sf_password, sf_username\n",
    "    return cs"
   ]
  },
  {
   "cell_type": "code",
   "execution_count": null,
   "metadata": {},
   "outputs": [],
   "source": [
    "def query_snowflake(str_query, cs):\n",
    "    \"\"\"\n",
    "    Queries snowflake and returns a dataframe.\n",
    "\n",
    "    Parameters\n",
    "    ----------\n",
    "    str_query : str\n",
    "        String query to run via Snowflake connector\n",
    "\n",
    "    dict_conn (optional) : dict\n",
    "        Dictionary of Snowflake connection parameters.\n",
    "        Default values are:\n",
    "            account: xj24206.us-east-1\n",
    "            warehouse: BI_MEDIUM\n",
    "            database: LOAD_PROD\n",
    "            schema: PUBLIC\n",
    "\n",
    "    Returns\n",
    "    -------\n",
    "    DataFrame\n",
    "        Pandas dataframe with the results of the query\n",
    "    \"\"\"\n",
    "\n",
    "    ### Query Snowflake and return a dataframe\n",
    "    cur = cs.execute(str_query)\n",
    "    df_out = pd.DataFrame\\\n",
    "                   .from_records(iter(cur),\n",
    "                                 columns=[x[0] for x in cur.description])\n",
    "    df_out.columns = [x.lower() for x in list(df_out.columns)]\n",
    "    return df_out"
   ]
  },
  {
   "cell_type": "code",
   "execution_count": 3,
   "metadata": {},
   "outputs": [
    {
     "name": "stdout",
     "output_type": "stream",
     "text": [
      "Username:erik.bethke@braze.com\n",
      "Password:········\n"
     ]
    },
    {
     "data": {
      "text/plain": [
       "<snowflake.connector.cursor.SnowflakeCursor at 0x1245c73d0>"
      ]
     },
     "execution_count": 3,
     "metadata": {},
     "output_type": "execute_result"
    }
   ],
   "source": [
    "initialize_conn()"
   ]
  }
 ],
 "metadata": {
  "kernelspec": {
   "display_name": "snowflake",
   "language": "python",
   "name": "snowflake"
  },
  "language_info": {
   "codemirror_mode": {
    "name": "ipython",
    "version": 3
   },
   "file_extension": ".py",
   "mimetype": "text/x-python",
   "name": "python",
   "nbconvert_exporter": "python",
   "pygments_lexer": "ipython3",
   "version": "3.7.6"
  }
 },
 "nbformat": 4,
 "nbformat_minor": 4
}
